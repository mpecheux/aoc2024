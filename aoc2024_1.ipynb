{
 "cells": [
  {
   "cell_type": "code",
   "execution_count": 8,
   "metadata": {},
   "outputs": [
    {
     "name": "stdout",
     "output_type": "stream",
     "text": [
      "1580061\n"
     ]
    }
   ],
   "source": [
    "with open('input_1.txt', 'r') as f:\n",
    "    lines = f.readlines()\n",
    "    left = []\n",
    "    right = []\n",
    "    for line in lines:\n",
    "        left.append(line.split('   ')[0])\n",
    "        right.append(line.split('   ')[1])\n",
    "    \n",
    "    left.sort()\n",
    "    right.sort()\n",
    "\n",
    "    total = 0\n",
    "    for i in range(len(left)):\n",
    "        diff = abs(int(right[i]) - int(left[i]))\n",
    "        total += diff\n",
    "\n",
    "    print(total)"
   ]
  },
  {
   "cell_type": "code",
   "execution_count": 17,
   "metadata": {},
   "outputs": [
    {
     "name": "stdout",
     "output_type": "stream",
     "text": [
      "23046913\n"
     ]
    }
   ],
   "source": [
    "def countIntElementInSortList(sortedList, target):\n",
    "    count = 0\n",
    "    for i in range(len(sortedList)):\n",
    "        if int(sortedList[i]) == target:\n",
    "            count += 1\n",
    "    return count\n",
    "\n",
    "with open('input_1.txt', 'r') as f:\n",
    "    lines = f.readlines()\n",
    "    left = []\n",
    "    right = []\n",
    "    for line in lines:\n",
    "        left.append(line.split('   ')[0])\n",
    "        right.append(line.split('   ')[1])\n",
    "    \n",
    "    left.sort()\n",
    "    right.sort()\n",
    "\n",
    "    total = 0\n",
    "    for i in range(len(left)):\n",
    "\n",
    "        target = left[i]\n",
    "        count = countIntElementInSortList(right, int(target))\n",
    "        total = total + count * int(target)\n",
    "\n",
    "\n",
    "    print(total)"
   ]
  }
 ],
 "metadata": {
  "kernelspec": {
   "display_name": "Python 3",
   "language": "python",
   "name": "python3"
  },
  "language_info": {
   "codemirror_mode": {
    "name": "ipython",
    "version": 3
   },
   "file_extension": ".py",
   "mimetype": "text/x-python",
   "name": "python",
   "nbconvert_exporter": "python",
   "pygments_lexer": "ipython3",
   "version": "3.10.11"
  }
 },
 "nbformat": 4,
 "nbformat_minor": 2
}
